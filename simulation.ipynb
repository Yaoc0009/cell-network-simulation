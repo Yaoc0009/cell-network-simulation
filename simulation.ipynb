{
 "cells": [
  {
   "cell_type": "code",
   "execution_count": 1,
   "metadata": {},
   "outputs": [],
   "source": [
    "from main import run_simulation\n",
    "from model_helpers import FCA_scheme"
   ]
  },
  {
   "cell_type": "code",
   "execution_count": 6,
   "metadata": {},
   "outputs": [],
   "source": [
    "import pandas as pd\n",
    "# Run simulation for scheme with NO RESERVATION\n",
    "num_epochs = 1\n",
    "num_iter = 10\n",
    "fca_scheme = FCA_scheme.NO_RESERVATION\n",
    "total_calls = 300000\n",
    "warmup_period = 0\n",
    "\n",
    "records = run_simulation(num_epochs, num_iter, fca_scheme, total_calls, warmup_period)\n",
    "df_rec = pd.concat([record[0] for record in records])\n",
    "df_rec.to_csv(\"warmup_period_no_reservation_time.csv\", index=False)"
   ]
  },
  {
   "cell_type": "code",
   "execution_count": 2,
   "metadata": {},
   "outputs": [
    {
     "name": "stdout",
     "output_type": "stream",
     "text": [
      "Epoch: 1 Avg Blocked Rate: 1.09124% Avg Dropped Rate: 0.3434%\n",
      "--------------------------------------------------\n",
      "Number of Simulations: 10\n",
      "QoS Achieved Count: 10\n",
      "QoS Failed due to Call Blocked rate: 0\n",
      "QoS Failed due to Call Dropped rate: 0\n",
      "--------------------------------------------------\n",
      "Blocked Rate:\n",
      "Mean: 1.09124%\n",
      "Standard Deviation: 0.0%\n",
      "95% Confidence Interval: (nan, nan)\n",
      "Dropped Rate:\n",
      "Mean: 0.3434%\n",
      "Standard Deviation: 0.0%\n",
      "95% Confidence Interval: (nan, nan)\n"
     ]
    },
    {
     "name": "stderr",
     "output_type": "stream",
     "text": [
      "C:\\Users\\yc000\\anaconda3\\lib\\site-packages\\scipy\\stats\\_distn_infrastructure.py:2128: RuntimeWarning: invalid value encountered in multiply\n",
      "  lower_bound = _a * scale + loc\n",
      "C:\\Users\\yc000\\anaconda3\\lib\\site-packages\\scipy\\stats\\_distn_infrastructure.py:2129: RuntimeWarning: invalid value encountered in multiply\n",
      "  upper_bound = _b * scale + loc\n"
     ]
    }
   ],
   "source": [
    "import pandas as pd\n",
    "# Run simulation for scheme with ONE RESERVATION\n",
    "num_epochs = 1\n",
    "num_iter = 10\n",
    "fca_scheme = FCA_scheme.ONE_RESERVATION\n",
    "total_calls = 300000\n",
    "warmup_period = 0\n",
    "\n",
    "records = run_simulation(num_epochs, num_iter, fca_scheme, total_calls, warmup_period)\n",
    "df_rec = pd.concat(records)\n",
    "df_rec.to_csv(\"warmup_period_one_reservation_time.csv\", index=False)"
   ]
  },
  {
   "cell_type": "code",
   "execution_count": null,
   "metadata": {},
   "outputs": [],
   "source": [
    "# Run simulation for scheme with NO RESERVATION\n",
    "num_epochs = 10\n",
    "num_iter = 10\n",
    "total_calls = 300000\n",
    "warmup_period = 150000\n",
    "\n",
    "result_ls = []\n",
    "for i, scheme in enumerate(FCA_scheme):\n",
    "    result = run_simulation(num_epochs, num_iter, scheme, total_calls, warmup_period)\n",
    "    result_ls.append([i] + result)    "
   ]
  },
  {
   "cell_type": "code",
   "execution_count": 4,
   "metadata": {},
   "outputs": [
    {
     "name": "stdout",
     "output_type": "stream",
     "text": [
      "Epoch: 1 Avg Blocked Rate: 0.34572% Avg Dropped Rate: 0.5835%\n",
      "Epoch: 2 Avg Blocked Rate: 0.35796% Avg Dropped Rate: 0.60321%\n",
      "Epoch: 3 Avg Blocked Rate: 0.34321% Avg Dropped Rate: 0.58011%\n",
      "Epoch: 4 Avg Blocked Rate: 0.34797% Avg Dropped Rate: 0.59411%\n",
      "Epoch: 5 Avg Blocked Rate: 0.34462% Avg Dropped Rate: 0.58617%\n"
     ]
    }
   ],
   "source": [
    "# Run simulation for scheme with NO RESERVATION\n",
    "num_epochs = 10\n",
    "num_iter = 10\n",
    "fca_scheme = FCA_scheme.NO_RESERVATION\n",
    "total_calls = 300000\n",
    "warmup_period = 100000\n",
    "\n",
    "res_0 = run_simulation(num_epochs, num_iter, fca_scheme, total_calls, warmup_period)"
   ]
  },
  {
   "cell_type": "code",
   "execution_count": null,
   "metadata": {},
   "outputs": [
    {
     "name": "stdout",
     "output_type": "stream",
     "text": [
      "Epoch: 1 Avg Blocked Rate: 1.10081% Avg Dropped Rate: 0.34327%\n",
      "--------------------------------------------------\n",
      "Number of Simulations: 10\n",
      "QoS Achieved Count: 10\n",
      "QoS Failed due to Call Blocked rate: 0\n",
      "QoS Failed due to Call Dropped rate: 0\n",
      "--------------------------------------------------\n",
      "Blocked Rate:\n",
      "Mean: 1.10081%\n",
      "Standard Deviation: 0.0%\n",
      "95% Confidence Interval: (nan, nan)\n",
      "Dropped Rate:\n",
      "Mean: 0.34327%\n",
      "Standard Deviation: 0.0%\n",
      "95% Confidence Interval: (nan, nan)\n"
     ]
    }
   ],
   "source": [
    "# Run simulation for scheme with ONE RESERVATION\n",
    "num_epochs = 10\n",
    "num_iter = 10\n",
    "fca_scheme = FCA_scheme.ONE_RESERVATION\n",
    "total_calls = 300000\n",
    "warmup_period = 100000\n",
    "\n",
    "res_1 = run_simulation(num_epochs, num_iter, fca_scheme, total_calls, warmup_period)"
   ]
  },
  {
   "cell_type": "code",
   "execution_count": null,
   "metadata": {},
   "outputs": [],
   "source": [
    "# Run simulation for scheme with TWO RESERVATION\n",
    "num_epochs = 10\n",
    "num_iter = 10\n",
    "fca_scheme = FCA_scheme.TWO_RESERVATION\n",
    "total_calls = 300000\n",
    "warmup_period = 100000\n",
    "\n",
    "res_2 = run_simulation(num_epochs, num_iter, fca_scheme, total_calls, warmup_period)"
   ]
  },
  {
   "cell_type": "code",
   "execution_count": null,
   "metadata": {},
   "outputs": [],
   "source": [
    "# Run simulation for scheme with THREE RESERVATION\n",
    "num_epochs = 10\n",
    "num_iter = 10\n",
    "fca_scheme = FCA_scheme.THREE_RESERVATION\n",
    "total_calls = 300000\n",
    "warmup_period = 100000\n",
    "\n",
    "res_3 = run_simulation(num_epochs, num_iter, fca_scheme, total_calls, warmup_period)"
   ]
  },
  {
   "cell_type": "code",
   "execution_count": null,
   "metadata": {},
   "outputs": [],
   "source": []
  }
 ],
 "metadata": {
  "interpreter": {
   "hash": "844b76db9c6287084a700b83fcee2bfa2459ffb22341cca4005896d1c230ef6c"
  },
  "kernelspec": {
   "display_name": "Python 3.8.12 ('pm3env')",
   "language": "python",
   "name": "python3"
  },
  "language_info": {
   "codemirror_mode": {
    "name": "ipython",
    "version": 3
   },
   "file_extension": ".py",
   "mimetype": "text/x-python",
   "name": "python",
   "nbconvert_exporter": "python",
   "pygments_lexer": "ipython3",
   "version": "3.8.12"
  },
  "orig_nbformat": 4
 },
 "nbformat": 4,
 "nbformat_minor": 2
}
