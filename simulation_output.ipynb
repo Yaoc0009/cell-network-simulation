{
 "cells": [
  {
   "cell_type": "code",
   "execution_count": 5,
   "metadata": {},
   "outputs": [],
   "source": [
    "from main import run_simulation\n",
    "from model_helpers import FCA_scheme\n",
    "import pandas as pd"
   ]
  },
  {
   "cell_type": "code",
   "execution_count": 1,
   "metadata": {},
   "outputs": [
    {
     "name": "stdout",
     "output_type": "stream",
     "text": [
      "\n",
      "Epoch: 1 Avg Blocked Rate: 0.34167% Avg Dropped Rate: 0.58004% \n",
      "Epoch: 2 Avg Blocked Rate: 0.35152% Avg Dropped Rate: 0.58843% \n",
      "Epoch: 3 Avg Blocked Rate: 0.3471% Avg Dropped Rate: 0.58874% \n",
      "Epoch: 4 Avg Blocked Rate: 0.34851% Avg Dropped Rate: 0.58759% \n",
      "Epoch: 5 Avg Blocked Rate: 0.33601% Avg Dropped Rate: 0.57716% \n",
      "Epoch: 6 Avg Blocked Rate: 0.34526% Avg Dropped Rate: 0.57649% \n",
      "Epoch: 7 Avg Blocked Rate: 0.34351% Avg Dropped Rate: 0.58501% \n",
      "Epoch: 8 Avg Blocked Rate: 0.35848% Avg Dropped Rate: 0.59731% \n",
      "Epoch: 9 Avg Blocked Rate: 0.34888% Avg Dropped Rate: 0.58628% \n",
      "Epoch: 10 Avg Blocked Rate: 0.35391% Avg Dropped Rate: 0.59409% \n",
      "-------------------------------------------------- \n",
      "Number of Simulations: 100 \n",
      "QoS Achieved Count: 100 \n",
      "QoS Failed due to Call Blocked rate: 0 \n",
      "QoS Failed due to Call Dropped rate: 0 \n",
      "-------------------------------------------------- \n",
      "Blocked Rate: \n",
      "Mean: 0.34748% \n",
      "Standard Deviation: 0.00606% \n",
      "95% Confidence Interval: (0.34315, 0.35182) \n",
      "Dropped Rate: \n",
      "Mean: 0.58611% \n",
      "Standard Deviation: 0.00644% \n",
      "95% Confidence Interval: (0.58151, 0.59072)\n",
      "\n"
     ]
    }
   ],
   "source": [
    "# Run simulation for scheme with NO RESERVATION\n",
    "num_epochs = 10\n",
    "num_iter = 10\n",
    "fca_scheme = FCA_scheme.NO_RESERVATION\n",
    "total_calls = 300000\n",
    "warmup_period = 100000\n",
    "\n",
    "res_0 = run_simulation(num_epochs, num_iter, fca_scheme, total_calls, warmup_period)"
   ]
  },
  {
   "cell_type": "code",
   "execution_count": 2,
   "metadata": {},
   "outputs": [
    {
     "name": "stdout",
     "output_type": "stream",
     "text": [
      "\n",
      "Epoch: 1 Avg Blocked Rate: 1.10981% Avg Dropped Rate: 0.3536% \n",
      "Epoch: 2 Avg Blocked Rate: 1.11234% Avg Dropped Rate: 0.34557% \n",
      "Epoch: 3 Avg Blocked Rate: 1.1033% Avg Dropped Rate: 0.34567% \n",
      "Epoch: 4 Avg Blocked Rate: 1.09597% Avg Dropped Rate: 0.34602% \n",
      "Epoch: 5 Avg Blocked Rate: 1.09795% Avg Dropped Rate: 0.33837% \n",
      "Epoch: 6 Avg Blocked Rate: 1.11076% Avg Dropped Rate: 0.34087% \n",
      "Epoch: 7 Avg Blocked Rate: 1.09555% Avg Dropped Rate: 0.34345% \n",
      "Epoch: 8 Avg Blocked Rate: 1.09033% Avg Dropped Rate: 0.3396% \n",
      "Epoch: 9 Avg Blocked Rate: 1.09443% Avg Dropped Rate: 0.33771% \n",
      "Epoch: 10 Avg Blocked Rate: 1.11042% Avg Dropped Rate: 0.34883% \n",
      "-------------------------------------------------- \n",
      "Number of Simulations: 100 \n",
      "QoS Achieved Count: 100 \n",
      "QoS Failed due to Call Blocked rate: 0 \n",
      "QoS Failed due to Call Dropped rate: 0 \n",
      "-------------------------------------------------- \n",
      "Blocked Rate: \n",
      "Mean: 1.10209% \n",
      "Standard Deviation: 0.00778% \n",
      "95% Confidence Interval: (1.09652, 1.10765) \n",
      "Dropped Rate: \n",
      "Mean: 0.34397% \n",
      "Standard Deviation: 0.00475% \n",
      "95% Confidence Interval: (0.34057, 0.34736)\n"
     ]
    }
   ],
   "source": [
    "# Run simulation for scheme with ONE RESERVATION\n",
    "num_epochs = 10\n",
    "num_iter = 10\n",
    "fca_scheme = FCA_scheme.ONE_RESERVATION\n",
    "total_calls = 300000\n",
    "warmup_period = 100000\n",
    "\n",
    "res_1 = run_simulation(num_epochs, num_iter, fca_scheme, total_calls, warmup_period)"
   ]
  },
  {
   "cell_type": "code",
   "execution_count": 3,
   "metadata": {},
   "outputs": [
    {
     "name": "stdout",
     "output_type": "stream",
     "text": [
      "\n",
      "Epoch: 1 Avg Blocked Rate: 2.68227% Avg Dropped Rate: 0.18219% \n",
      "Epoch: 2 Avg Blocked Rate: 2.70599% Avg Dropped Rate: 0.18421% \n",
      "Epoch: 3 Avg Blocked Rate: 2.69309% Avg Dropped Rate: 0.17988% \n",
      "Epoch: 4 Avg Blocked Rate: 2.64154% Avg Dropped Rate: 0.17939% \n",
      "Epoch: 5 Avg Blocked Rate: 2.67678% Avg Dropped Rate: 0.18039% \n",
      "Epoch: 6 Avg Blocked Rate: 2.66906% Avg Dropped Rate: 0.17952% \n",
      "Epoch: 7 Avg Blocked Rate: 2.66021% Avg Dropped Rate: 0.17761% \n",
      "Epoch: 8 Avg Blocked Rate: 2.66686% Avg Dropped Rate: 0.17491% \n",
      "Epoch: 9 Avg Blocked Rate: 2.6433% Avg Dropped Rate: 0.18342% \n",
      "Epoch: 10 Avg Blocked Rate: 2.69545% Avg Dropped Rate: 0.17259% \n",
      "-------------------------------------------------- \n",
      "Number of Simulations: 100 \n",
      "QoS Achieved Count: 0 \n",
      "QoS Failed due to Call Blocked rate: 100 \n",
      "QoS Failed due to Call Dropped rate: 0 \n",
      "-------------------------------------------------- \n",
      "Blocked Rate: \n",
      "Mean: 2.67346% \n",
      "Standard Deviation: 0.02045% \n",
      "95% Confidence Interval: (2.65883, 2.68809) \n",
      "Dropped Rate: \n",
      "Mean: 0.17941% \n",
      "Standard Deviation: 0.00344% \n",
      "95% Confidence Interval: (0.17695, 0.18187)\n"
     ]
    }
   ],
   "source": [
    "# Run simulation for scheme with TWO RESERVATION\n",
    "num_epochs = 10\n",
    "num_iter = 10\n",
    "fca_scheme = FCA_scheme.TWO_RESERVATION\n",
    "total_calls = 300000\n",
    "warmup_period = 100000\n",
    "\n",
    "res_2 = run_simulation(num_epochs, num_iter, fca_scheme, total_calls, warmup_period)"
   ]
  },
  {
   "cell_type": "code",
   "execution_count": 4,
   "metadata": {},
   "outputs": [
    {
     "name": "stdout",
     "output_type": "stream",
     "text": [
      "\n",
      "Epoch: 1 Avg Blocked Rate: 5.62051% Avg Dropped Rate: 0.07628% \n",
      "Epoch: 2 Avg Blocked Rate: 5.60546% Avg Dropped Rate: 0.07278% \n",
      "Epoch: 3 Avg Blocked Rate: 5.56825% Avg Dropped Rate: 0.0764% \n",
      "Epoch: 4 Avg Blocked Rate: 5.62291% Avg Dropped Rate: 0.07785% \n",
      "Epoch: 5 Avg Blocked Rate: 5.60265% Avg Dropped Rate: 0.07731% \n",
      "Epoch: 6 Avg Blocked Rate: 5.61627% Avg Dropped Rate: 0.07189% \n",
      "Epoch: 7 Avg Blocked Rate: 5.60735% Avg Dropped Rate: 0.07337% \n",
      "Epoch: 8 Avg Blocked Rate: 5.62059% Avg Dropped Rate: 0.07937% \n",
      "Epoch: 9 Avg Blocked Rate: 5.56374% Avg Dropped Rate: 0.07397% \n",
      "Epoch: 10 Avg Blocked Rate: 5.62292% Avg Dropped Rate: 0.07973% \n",
      "-------------------------------------------------- \n",
      "Number of Simulations: 100 \n",
      "QoS Achieved Count: 0 \n",
      "QoS Failed due to Call Blocked rate: 100 \n",
      "QoS Failed due to Call Dropped rate: 0 \n",
      "-------------------------------------------------- \n",
      "Blocked Rate: \n",
      "Mean: 5.60506% \n",
      "Standard Deviation: 0.02078% \n",
      "95% Confidence Interval: (5.5902, 5.61993) \n",
      "Dropped Rate: \n",
      "Mean: 0.07589% \n",
      "Standard Deviation: 0.00262% \n",
      "95% Confidence Interval: (0.07402, 0.07777)\n"
     ]
    }
   ],
   "source": [
    "# Run simulation for scheme with THREE RESERVATION\n",
    "num_epochs = 10\n",
    "num_iter = 10\n",
    "fca_scheme = FCA_scheme.THREE_RESERVATION\n",
    "total_calls = 300000\n",
    "warmup_period = 100000\n",
    "\n",
    "res_3 = run_simulation(num_epochs, num_iter, fca_scheme, total_calls, warmup_period)"
   ]
  },
  {
   "cell_type": "markdown",
   "metadata": {},
   "source": [
    "### Comparision of different FCA Schemes"
   ]
  },
  {
   "cell_type": "code",
   "execution_count": 9,
   "metadata": {},
   "outputs": [
    {
     "data": {
      "text/html": [
       "<div>\n",
       "<style scoped>\n",
       "    .dataframe tbody tr th:only-of-type {\n",
       "        vertical-align: middle;\n",
       "    }\n",
       "\n",
       "    .dataframe tbody tr th {\n",
       "        vertical-align: top;\n",
       "    }\n",
       "\n",
       "    .dataframe thead th {\n",
       "        text-align: right;\n",
       "    }\n",
       "</style>\n",
       "<table border=\"1\" class=\"dataframe\">\n",
       "  <thead>\n",
       "    <tr style=\"text-align: right;\">\n",
       "      <th></th>\n",
       "      <th>Blocked Rate (%)</th>\n",
       "      <th>Dropped Rate (%)</th>\n",
       "    </tr>\n",
       "  </thead>\n",
       "  <tbody>\n",
       "    <tr>\n",
       "      <th>No Reservation</th>\n",
       "      <td>0.347485</td>\n",
       "      <td>0.586114</td>\n",
       "    </tr>\n",
       "    <tr>\n",
       "      <th>One Reservation</th>\n",
       "      <td>1.102088</td>\n",
       "      <td>0.343968</td>\n",
       "    </tr>\n",
       "    <tr>\n",
       "      <th>Two Reservation</th>\n",
       "      <td>2.673456</td>\n",
       "      <td>0.179411</td>\n",
       "    </tr>\n",
       "    <tr>\n",
       "      <th>Three Reservation</th>\n",
       "      <td>5.605065</td>\n",
       "      <td>0.075894</td>\n",
       "    </tr>\n",
       "  </tbody>\n",
       "</table>\n",
       "</div>"
      ],
      "text/plain": [
       "                   Blocked Rate (%)  Dropped Rate (%)\n",
       "No Reservation             0.347485          0.586114\n",
       "One Reservation            1.102088          0.343968\n",
       "Two Reservation            2.673456          0.179411\n",
       "Three Reservation          5.605065          0.075894"
      ]
     },
     "execution_count": 9,
     "metadata": {},
     "output_type": "execute_result"
    }
   ],
   "source": [
    "result = [res_0, res_1, res_2, res_3]\n",
    "df_result = pd.DataFrame(result, columns=['Blocked Rate (%)', 'Dropped Rate (%)'], index=['No Reservation', 'One Reservation', 'Two Reservation', 'Three Reservation'])\n",
    "df_result"
   ]
  }
 ],
 "metadata": {
  "interpreter": {
   "hash": "844b76db9c6287084a700b83fcee2bfa2459ffb22341cca4005896d1c230ef6c"
  },
  "kernelspec": {
   "display_name": "Python 3.8.12 ('pm3env')",
   "language": "python",
   "name": "python3"
  },
  "language_info": {
   "codemirror_mode": {
    "name": "ipython",
    "version": 3
   },
   "file_extension": ".py",
   "mimetype": "text/x-python",
   "name": "python",
   "nbconvert_exporter": "python",
   "pygments_lexer": "ipython3",
   "version": "3.8.12"
  },
  "orig_nbformat": 4
 },
 "nbformat": 4,
 "nbformat_minor": 2
}
