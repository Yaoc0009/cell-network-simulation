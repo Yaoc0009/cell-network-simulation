{
 "cells": [
  {
   "cell_type": "code",
   "execution_count": 1,
   "metadata": {},
   "outputs": [],
   "source": [
    "import pandas as pd\n",
    "import numpy as np\n",
    "import matplotlib.pyplot as plt\n",
    "import scipy.stats as stats\n",
    "import seaborn as sns\n",
    "%matplotlib inline"
   ]
  },
  {
   "cell_type": "code",
   "execution_count": 2,
   "metadata": {},
   "outputs": [
    {
     "data": {
      "text/html": [
       "<div>\n",
       "<style scoped>\n",
       "    .dataframe tbody tr th:only-of-type {\n",
       "        vertical-align: middle;\n",
       "    }\n",
       "\n",
       "    .dataframe tbody tr th {\n",
       "        vertical-align: top;\n",
       "    }\n",
       "\n",
       "    .dataframe thead th {\n",
       "        text-align: right;\n",
       "    }\n",
       "</style>\n",
       "<table border=\"1\" class=\"dataframe\">\n",
       "  <thead>\n",
       "    <tr style=\"text-align: right;\">\n",
       "      <th></th>\n",
       "      <th>Arrival no</th>\n",
       "      <th>Arrival time (sec)</th>\n",
       "      <th>Base station</th>\n",
       "      <th>Call duration (sec)</th>\n",
       "      <th>velocity (km/h)</th>\n",
       "    </tr>\n",
       "  </thead>\n",
       "  <tbody>\n",
       "    <tr>\n",
       "      <th>0</th>\n",
       "      <td>1</td>\n",
       "      <td>0.000000</td>\n",
       "      <td>18</td>\n",
       "      <td>76.133611</td>\n",
       "      <td>125.934254</td>\n",
       "    </tr>\n",
       "    <tr>\n",
       "      <th>1</th>\n",
       "      <td>2</td>\n",
       "      <td>0.067744</td>\n",
       "      <td>7</td>\n",
       "      <td>159.056244</td>\n",
       "      <td>95.510881</td>\n",
       "    </tr>\n",
       "    <tr>\n",
       "      <th>2</th>\n",
       "      <td>3</td>\n",
       "      <td>0.559184</td>\n",
       "      <td>6</td>\n",
       "      <td>179.465053</td>\n",
       "      <td>127.757456</td>\n",
       "    </tr>\n",
       "    <tr>\n",
       "      <th>3</th>\n",
       "      <td>4</td>\n",
       "      <td>0.625319</td>\n",
       "      <td>14</td>\n",
       "      <td>163.108320</td>\n",
       "      <td>134.310552</td>\n",
       "    </tr>\n",
       "    <tr>\n",
       "      <th>4</th>\n",
       "      <td>5</td>\n",
       "      <td>1.345066</td>\n",
       "      <td>2</td>\n",
       "      <td>95.054472</td>\n",
       "      <td>112.272359</td>\n",
       "    </tr>\n",
       "    <tr>\n",
       "      <th>...</th>\n",
       "      <td>...</td>\n",
       "      <td>...</td>\n",
       "      <td>...</td>\n",
       "      <td>...</td>\n",
       "      <td>...</td>\n",
       "    </tr>\n",
       "    <tr>\n",
       "      <th>9995</th>\n",
       "      <td>9996</td>\n",
       "      <td>13692.269647</td>\n",
       "      <td>4</td>\n",
       "      <td>116.119337</td>\n",
       "      <td>119.601001</td>\n",
       "    </tr>\n",
       "    <tr>\n",
       "      <th>9996</th>\n",
       "      <td>9997</td>\n",
       "      <td>13692.593630</td>\n",
       "      <td>16</td>\n",
       "      <td>37.970440</td>\n",
       "      <td>114.278648</td>\n",
       "    </tr>\n",
       "    <tr>\n",
       "      <th>9997</th>\n",
       "      <td>9998</td>\n",
       "      <td>13694.615122</td>\n",
       "      <td>3</td>\n",
       "      <td>31.919218</td>\n",
       "      <td>123.540944</td>\n",
       "    </tr>\n",
       "    <tr>\n",
       "      <th>9998</th>\n",
       "      <td>9999</td>\n",
       "      <td>13695.404091</td>\n",
       "      <td>12</td>\n",
       "      <td>386.621127</td>\n",
       "      <td>123.507947</td>\n",
       "    </tr>\n",
       "    <tr>\n",
       "      <th>9999</th>\n",
       "      <td>10000</td>\n",
       "      <td>13696.799448</td>\n",
       "      <td>7</td>\n",
       "      <td>167.610575</td>\n",
       "      <td>122.363562</td>\n",
       "    </tr>\n",
       "  </tbody>\n",
       "</table>\n",
       "<p>10000 rows × 5 columns</p>\n",
       "</div>"
      ],
      "text/plain": [
       "      Arrival no  Arrival time (sec)  Base station  Call duration (sec)  \\\n",
       "0              1            0.000000            18            76.133611   \n",
       "1              2            0.067744             7           159.056244   \n",
       "2              3            0.559184             6           179.465053   \n",
       "3              4            0.625319            14           163.108320   \n",
       "4              5            1.345066             2            95.054472   \n",
       "...          ...                 ...           ...                  ...   \n",
       "9995        9996        13692.269647             4           116.119337   \n",
       "9996        9997        13692.593630            16            37.970440   \n",
       "9997        9998        13694.615122             3            31.919218   \n",
       "9998        9999        13695.404091            12           386.621127   \n",
       "9999       10000        13696.799448             7           167.610575   \n",
       "\n",
       "      velocity (km/h)  \n",
       "0          125.934254  \n",
       "1           95.510881  \n",
       "2          127.757456  \n",
       "3          134.310552  \n",
       "4          112.272359  \n",
       "...               ...  \n",
       "9995       119.601001  \n",
       "9996       114.278648  \n",
       "9997       123.540944  \n",
       "9998       123.507947  \n",
       "9999       122.363562  \n",
       "\n",
       "[10000 rows x 5 columns]"
      ]
     },
     "execution_count": 2,
     "metadata": {},
     "output_type": "execute_result"
    }
   ],
   "source": [
    "data = pd.read_excel(\"PCS_TEST_DETERMINSTIC.xls\")\n",
    "data.columns = data.columns.str.strip()\n",
    "data"
   ]
  },
  {
   "cell_type": "markdown",
   "metadata": {},
   "source": [
    "## Input Modelling"
   ]
  },
  {
   "cell_type": "markdown",
   "metadata": {},
   "source": [
    "### Distribution of interarrival times"
   ]
  },
  {
   "cell_type": "code",
   "execution_count": 3,
   "metadata": {},
   "outputs": [
    {
     "data": {
      "image/png": "[encoded data removed]",
      "text/plain": [
       "<Figure size 1080x432 with 1 Axes>"
      ]
     },
     "metadata": {
      "needs_background": "light"
     },
     "output_type": "display_data"
    }
   ],
   "source": [
    "# set figure size\n",
    "plt.figure(figsize=(15, 6))\n",
    "\n",
    "# calculate interarrival times\n",
    "int_arr = np.diff(data['Arrival time (sec)'])\n",
    "# calculate k\n",
    "k = int(np.sqrt(len(int_arr)))\n",
    "# plot interarrival times\n",
    "plt.hist(int_arr, bins=k, edgecolor='white')\n",
    "plt.xlabel('Interarrival time (sec)')\n",
    "plt.ylabel('Frequency')\n",
    "plt.title('Interarrival time distribution')\n",
    "plt.show()"
   ]
  },
  {
   "cell_type": "markdown",
   "metadata": {},
   "source": [
    "#### Maximum Likelihood Estimation <br>\n",
    "By observation, distribution of interarrival times is similar to an exponential distribution. Estimate the parameters of the distribution."
   ]
  },
  {
   "cell_type": "code",
   "execution_count": 4,
   "metadata": {},
   "outputs": [
    {
     "name": "stdout",
     "output_type": "stream",
     "text": [
      "Mean of Interarrival time distribution: 1.3698169264765245\n"
     ]
    }
   ],
   "source": [
    "# estimate of parameters\n",
    "beta = np.mean(int_arr)\n",
    "print('Mean of Interarrival time distribution: ' + str(beta))"
   ]
  },
  {
   "cell_type": "markdown",
   "metadata": {},
   "source": [
    "#### Goodness-of-fit test for exponential distribution <br>\n",
    "We use the Chi-square test to verify this hypothesis that the interarrival times are distributed according to an exponential distribution."
   ]
  },
  {
   "cell_type": "code",
   "execution_count": 5,
   "metadata": {},
   "outputs": [
    {
     "name": "stdout",
     "output_type": "stream",
     "text": [
      "Test statistic: 95.58415841584156\n",
      "Critical value (alpha=0.05): 120.98964369660958\n",
      "Test statistic is less than critical value. Do not reject null hypothesis.\n"
     ]
    }
   ],
   "source": [
    "# Calculate values of intervals\n",
    "intervals = []\n",
    "p = 1/k\n",
    "for i in range(k):\n",
    "    intervals.append(beta*np.log(1/(1-i*p)))\n",
    "\n",
    "# calculate N values\n",
    "N = [0]*k\n",
    "for val in int_arr:\n",
    "    if val >= intervals[k-1]:\n",
    "        N[k-1] += 1\n",
    "    else:\n",
    "        for i in range(k-1):\n",
    "            if val >= intervals[i] and val < intervals[i+1]:\n",
    "                N[i] += 1\n",
    "\n",
    "# calculate test statistic\n",
    "np_val = p*len(int_arr)\n",
    "test_statistic = np.sum([((N[i] - np_val)**2)/np_val for i in range(k)])\n",
    "critical_value = stats.chi2.ppf(0.95, k-1-1)\n",
    "print('Test statistic: ' + str(test_statistic))\n",
    "print('Critical value (alpha=0.05): ' + str(critical_value))\n",
    "if test_statistic > critical_value:\n",
    "    print('Test statistic is greater than critical value. Reject null hypothesis.')\n",
    "else:\n",
    "    print('Test statistic is less than critical value. Do not reject null hypothesis.')"
   ]
  },
  {
   "cell_type": "markdown",
   "metadata": {},
   "source": [
    "### Distribution of starting Base Stations"
   ]
  },
  {
   "cell_type": "code",
   "execution_count": 6,
   "metadata": {},
   "outputs": [
    {
     "name": "stderr",
     "output_type": "stream",
     "text": [
      "C:\\Users\\yc000\\anaconda3\\lib\\site-packages\\seaborn\\_decorators.py:36: FutureWarning: Pass the following variable as a keyword arg: x. From version 0.12, the only valid positional argument will be `data`, and passing other arguments without an explicit keyword will result in an error or misinterpretation.\n",
      "  warnings.warn(\n"
     ]
    },
    {
     "data": {
      "image/png": "[encoded data removed]",
      "text/plain": [
       "<Figure size 1080x432 with 1 Axes>"
      ]
     },
     "metadata": {
      "needs_background": "light"
     },
     "output_type": "display_data"
    }
   ],
   "source": [
    "# set figure size\n",
    "plt.figure(figsize=(15, 6))\n",
    "\n",
    "k = 20\n",
    "# plot starting base station distribution\n",
    "sns.countplot(data['Base station'], color='c')\n",
    "plt.xlabel('Base station')\n",
    "plt.ylabel('Frequency')\n",
    "plt.title('Starting Base Station distribution')\n",
    "plt.show()"
   ]
  },
  {
   "cell_type": "markdown",
   "metadata": {},
   "source": [
    "#### Goodness-of-fit test for uniform distribution <br>\n",
    "We use the Chi-square test to verify this hypothesis that the starting base stations are distributed according to an uniform distribution."
   ]
  },
  {
   "cell_type": "code",
   "execution_count": 7,
   "metadata": {},
   "outputs": [
    {
     "name": "stdout",
     "output_type": "stream",
     "text": [
      "Test statistic: 25.656000000000002\n",
      "Critical value (alpha=0.05): 30.14352720564616\n",
      "Test statistic is less than critical value. Do not reject null hypothesis.\n"
     ]
    }
   ],
   "source": [
    "# calculate N values\n",
    "N = [0]*k\n",
    "for val in data['Base station']:\n",
    "    for i in range(k):\n",
    "        if val == i+1:\n",
    "            N[i] += 1\n",
    "\n",
    "# calculate test statistic\n",
    "np_val = len(data)/20\n",
    "test_statistic = np.sum([((N[i] - np_val)**2)/np_val for i in range(k)])\n",
    "critical_value = stats.chi2.ppf(0.95, k-1)\n",
    "print('Test statistic: ' + str(test_statistic))\n",
    "print('Critical value (alpha=0.05): ' + str(critical_value))\n",
    "if test_statistic > critical_value:\n",
    "    print('Test statistic is greater than critical value. Reject null hypothesis.')\n",
    "else:\n",
    "    print('Test statistic is less than critical value. Do not reject null hypothesis.')"
   ]
  },
  {
   "cell_type": "markdown",
   "metadata": {},
   "source": [
    "### Distribution of Call Duration"
   ]
  },
  {
   "cell_type": "code",
   "execution_count": 8,
   "metadata": {},
   "outputs": [
    {
     "data": {
      "image/png": "[encoded data removed]",
      "text/plain": [
       "<Figure size 1080x432 with 1 Axes>"
      ]
     },
     "metadata": {
      "needs_background": "light"
     },
     "output_type": "display_data"
    }
   ],
   "source": [
    "# set figure size\n",
    "plt.figure(figsize=(15, 6))\n",
    "\n",
    "k = int(np.sqrt(len(data)))\n",
    "# minimum call duration is not 0, translate values to 0\n",
    "translation = min(data['Call duration (sec)'])\n",
    "# plot starting base station distribution\n",
    "plt.hist(data['Call duration (sec)']-translation, bins=k, edgecolor='white')\n",
    "plt.xlabel('Call duration (sec)')\n",
    "plt.ylabel('Frequency')\n",
    "plt.title('Call duration distribution')\n",
    "plt.show()"
   ]
  },
  {
   "cell_type": "markdown",
   "metadata": {},
   "source": [
    "#### Maximum Likelihood Estimation <br>\n",
    "By observation, distribution of call duration times translated is similar to an exponential distribution. Estimate the parameters of the distribution."
   ]
  },
  {
   "cell_type": "code",
   "execution_count": 9,
   "metadata": {},
   "outputs": [
    {
     "name": "stdout",
     "output_type": "stream",
     "text": [
      "Mean of Call duration distribution: 99.83194913549607\n"
     ]
    }
   ],
   "source": [
    "# estimate of parameters\n",
    "beta = np.mean(data['Call duration (sec)']-translation)\n",
    "print('Mean of Call duration distribution: ' + str(beta))"
   ]
  },
  {
   "cell_type": "markdown",
   "metadata": {},
   "source": [
    "#### Goodness-of-fit test for exponential distribution <br>\n",
    "We use the Chi-square test to verify this hypothesis that the call duration times are distributed according to an exponential distribution."
   ]
  },
  {
   "cell_type": "code",
   "execution_count": 10,
   "metadata": {},
   "outputs": [
    {
     "name": "stdout",
     "output_type": "stream",
     "text": [
      "Test statistic: 97.01999999999997\n",
      "Critical value (alpha=0.05): 122.10773460981942\n",
      "Test statistic is less than critical value. Do not reject null hypothesis.\n"
     ]
    }
   ],
   "source": [
    "# Calculate values of intervals\n",
    "intervals = []\n",
    "p = 1/k\n",
    "for i in range(k):\n",
    "    intervals.append(beta*np.log(1/(1-i*p)))\n",
    "\n",
    "# calculate N values\n",
    "N = [0]*k\n",
    "for val in data['Call duration (sec)']-translation:\n",
    "    if val >= intervals[k-1]:\n",
    "        N[k-1] += 1\n",
    "    else:\n",
    "        for i in range(k-1):\n",
    "            if val >= intervals[i] and val < intervals[i+1]:\n",
    "                N[i] += 1\n",
    "\n",
    "# calculate test statistic\n",
    "np_val = p*len(data)\n",
    "test_statistic = np.sum([((N[i] - np_val)**2)/np_val for i in range(k)])\n",
    "critical_value = stats.chi2.ppf(0.95, k-1-1)\n",
    "print('Test statistic: ' + str(test_statistic))\n",
    "print('Critical value (alpha=0.05): ' + str(critical_value))\n",
    "if test_statistic > critical_value:\n",
    "    print('Test statistic is greater than critical value. Reject null hypothesis.')\n",
    "else:\n",
    "    print('Test statistic is less than critical value. Do not reject null hypothesis.')"
   ]
  },
  {
   "cell_type": "markdown",
   "metadata": {},
   "source": [
    "### Distribution of Velocity"
   ]
  },
  {
   "cell_type": "code",
   "execution_count": 11,
   "metadata": {},
   "outputs": [
    {
     "data": {
      "image/png": "[encoded data removed]",
      "text/plain": [
       "<Figure size 1080x432 with 1 Axes>"
      ]
     },
     "metadata": {
      "needs_background": "light"
     },
     "output_type": "display_data"
    }
   ],
   "source": [
    "# set figure size\n",
    "plt.figure(figsize=(15, 6))\n",
    "\n",
    "k = int(np.sqrt(len(data)))\n",
    "# plot starting base station distribution\n",
    "plt.hist(data['velocity (km/h)'], bins=k, edgecolor='white')\n",
    "plt.xlabel('Velocity (km/h)')\n",
    "plt.ylabel('Frequency')\n",
    "plt.title('Velocity distribution')\n",
    "plt.show()"
   ]
  },
  {
   "cell_type": "markdown",
   "metadata": {},
   "source": [
    "#### Maximum Likelihood Estimation <br>\n",
    "By observation, distribution of velocity is similar to a normal distribution. Estimate the parameters of the distribution."
   ]
  },
  {
   "cell_type": "code",
   "execution_count": 12,
   "metadata": {},
   "outputs": [
    {
     "name": "stdout",
     "output_type": "stream",
     "text": [
      "Mean of Velocity distribution: 120.07209801685805\n",
      "Variance of Velocity distribution: 81.33527102508008\n"
     ]
    }
   ],
   "source": [
    "# estimate of parameters\n",
    "mu = np.mean(data['velocity (km/h)'])\n",
    "variance = np.var(data['velocity (km/h)'])\n",
    "print('Mean of Velocity distribution: ' + str(mu))\n",
    "print('Variance of Velocity distribution: ' + str(variance))"
   ]
  },
  {
   "cell_type": "markdown",
   "metadata": {},
   "source": [
    "#### Goodness-of-fit test for normal distribution <br>\n",
    "We use the Chi-square test to verify this hypothesis that the velocities are distributed according to a normal distribution."
   ]
  },
  {
   "cell_type": "code",
   "execution_count": 13,
   "metadata": {},
   "outputs": [
    {
     "name": "stdout",
     "output_type": "stream",
     "text": [
      "Test statistic: 0.9232644183720664\n",
      "P-value: 0.6302540989879483\n",
      "P-value is greater than 1e-3. Do not reject null hypothesis.\n"
     ]
    }
   ],
   "source": [
    "# normal distribution hypothesis testing\n",
    "test_statistic, p_value = stats.normaltest(data['velocity (km/h)'])\n",
    "print('Test statistic: ' + str(test_statistic))\n",
    "print('P-value: ' + str(p_value))\n",
    "if p_value < 1e-3:\n",
    "    print('P-value is less than 1e-3. Reject null hypothesis.')\n",
    "else:\n",
    "    print('P-value is greater than 1e-3. Do not reject null hypothesis.')"
   ]
  },
  {
   "cell_type": "code",
   "execution_count": null,
   "metadata": {},
   "outputs": [],
   "source": []
  }
 ],
 "metadata": {
  "interpreter": {
   "hash": "929a5e13a2299163ed035e1c3da17447e394a36aa699dd7fc57b197123adf645"
  },
  "kernelspec": {
   "display_name": "Python 3.9.4 64-bit",
   "language": "python",
   "name": "python3"
  },
  "language_info": {
   "codemirror_mode": {
    "name": "ipython",
    "version": 3
   },
   "file_extension": ".py",
   "mimetype": "text/x-python",
   "name": "python",
   "nbconvert_exporter": "python",
   "pygments_lexer": "ipython3",
   "version": "3.8.12"
  },
  "orig_nbformat": 4
 },
 "nbformat": 4,
 "nbformat_minor": 2
}
